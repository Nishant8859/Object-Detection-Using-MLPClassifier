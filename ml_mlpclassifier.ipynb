{
  "nbformat": 4,
  "nbformat_minor": 0,
  "metadata": {
    "colab": {
      "provenance": []
    },
    "kernelspec": {
      "name": "python3",
      "display_name": "Python 3"
    },
    "language_info": {
      "name": "python"
    }
  },
  "cells": [
    {
      "cell_type": "code",
      "source": [
        "from sklearn.model_selection import train_test_split\n",
        "from sklearn.neural_network import MLPClassifier\n",
        "import os\n",
        "import cv2\n",
        "import numpy as np\n",
        "\n",
        "def preprocess_image(image_path):\n",
        "    img = cv2.imread(image_path, cv2.IMREAD_GRAYSCALE)\n",
        "    img = cv2.resize(img, (100, 100))\n",
        "    img = img.flatten()\n",
        "    return img\n",
        "\n",
        "images = []\n",
        "labels = []\n",
        "image_files = []\n",
        "\n",
        "for filename in os.listdir(\"ml_task\"):\n",
        "    if filename.endswith(\".jpg\"):\n",
        "        image_files.append(filename)\n",
        "        images.append(preprocess_image(os.path.join(\"ml_task\", filename)))\n",
        "        labels.append(1)\n",
        "\n",
        "X_train, X_test, y_train, y_test = train_test_split(images, labels, test_size=0.3, random_state=42)\n",
        "\n",
        "model = MLPClassifier(hidden_layer_sizes=(100,), max_iter=500)\n",
        "model.fit(X_train, y_train)\n",
        "\n",
        "accuracy = model.score(X_test, y_test)\n",
        "print(\"Accuracy:\", accuracy)\n",
        "\n",
        "num_objects_detected = len(X_test)\n",
        "print(\"Number of objects detected:\", num_objects_detected)\n",
        "\n",
        "# Calculate number of objects detected in each test image\n",
        "num_objects_detected_per_image = []\n",
        "for i, test_image in enumerate(X_test):\n",
        "    num_objects = model.predict([test_image])[0]\n",
        "    num_objects_detected_per_image.append((image_files[i], num_objects))\n",
        "\n",
        "print(\"Number of objects detected in each test image:\")\n",
        "for image_file, num_objects in num_objects_detected_per_image:\n",
        "    print(image_file, \"- Number of objects detected:\", num_objects)"
      ],
      "metadata": {
        "colab": {
          "base_uri": "https://localhost:8080/"
        },
        "id": "JEVpqW0vKUEg",
        "outputId": "1f5ac96f-06ae-4ac0-9590-5c55aa80ce6b"
      },
      "execution_count": null,
      "outputs": [
        {
          "output_type": "stream",
          "name": "stdout",
          "text": [
            "Accuracy: 1.0\n",
            "Number of objects detected: 4\n",
            "Number of objects detected in each test image:\n",
            "car14.jpg - Number of objects detected: 1\n",
            "car6.jpg - Number of objects detected: 1\n",
            "car4.jpg - Number of objects detected: 1\n",
            "car8.jpg - Number of objects detected: 1\n"
          ]
        }
      ]
    }
  ]
}